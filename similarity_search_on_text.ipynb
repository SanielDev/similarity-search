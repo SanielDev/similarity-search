{
 "cells": [
  {
   "cell_type": "code",
   "execution_count": 2,
   "id": "163603fb",
   "metadata": {},
   "outputs": [],
   "source": [
    "# Importing the necessary modules from the chromadb package:\n",
    "# chromadb is used to interact with the Chroma DB database,\n",
    "# embedding_functions is used to define the embedding model\n",
    "import chromadb\n",
    "from chromadb.utils import embedding_functions"
   ]
  },
  {
   "cell_type": "code",
   "execution_count": 3,
   "id": "d47faa41",
   "metadata": {},
   "outputs": [
    {
     "name": "stderr",
     "output_type": "stream",
     "text": [
      "/Users/sanielbhattarai/Desktop/IBM Certification/Vector Databases for RAG/Module-1/.venv/lib/python3.13/site-packages/tqdm/auto.py:21: TqdmWarning: IProgress not found. Please update jupyter and ipywidgets. See https://ipywidgets.readthedocs.io/en/stable/user_install.html\n",
      "  from .autonotebook import tqdm as notebook_tqdm\n"
     ]
    }
   ],
   "source": [
    "# Define the embedding function using SentenceTransformers\n",
    "ef = embedding_functions.SentenceTransformerEmbeddingFunction(\n",
    "    model_name=\"all-MiniLM-L6-v2\"\n",
    ")"
   ]
  },
  {
   "cell_type": "code",
   "execution_count": 4,
   "id": "93afb4cc",
   "metadata": {},
   "outputs": [
    {
     "name": "stderr",
     "output_type": "stream",
     "text": [
      "Failed to send telemetry event ClientStartEvent: capture() takes 1 positional argument but 3 were given\n"
     ]
    }
   ],
   "source": [
    "# Create a new instance of ChromaClient to interact with the Chroma DB\n",
    "client = chromadb.Client()"
   ]
  },
  {
   "cell_type": "code",
   "execution_count": 5,
   "id": "5b78dbb8",
   "metadata": {},
   "outputs": [],
   "source": [
    "# Define the name for the collection to be created or retrieved\n",
    "collection_name = \"my_grocery_collection\""
   ]
  },
  {
   "cell_type": "code",
   "execution_count": 6,
   "id": "8be81651",
   "metadata": {},
   "outputs": [],
   "source": [
    "# Function to perform a similarity search in the collection\n",
    "def perform_similarity_search(collection, all_items):\n",
    "    try:\n",
    "        # Define the query term you want to search for in the collection\n",
    "        query_term = \"apple\"\n",
    "        \n",
    "\n",
    "        # Perform a query to search for the most similar documents to the 'query_term'\n",
    "        results = collection.query(\n",
    "            query_texts=[query_term],\n",
    "            n_results=3  # Retrieve top 3 results\n",
    "        )\n",
    "        print(f\"Query results for '{query_term}':\")\n",
    "        print(results)\n",
    "        \n",
    "        # Check if no results are returned or if the results array is empty\n",
    "        if not results or not results['ids'] or len(results['ids'][0]) == 0:\n",
    "            # Log a message indicating that no similar documents were found for the query term\n",
    "            print(f'No documents found similar to \"{query_term}\"')\n",
    "            return\n",
    "        # print(results)\n",
    "\n",
    "        print(f'Top 3 similar documents to \"{query_term}\":')\n",
    "        # Access the nested arrays in 'results[\"ids\"]' and 'results[\"distances\"]'\n",
    "        for i in range(min(3, len(results['ids'][0]))):\n",
    "            doc_id = results['ids'][0][i]  # Get ID from 'ids' array\n",
    "            score = results['distances'][0][i]  # Get score from 'distances' array\n",
    "            # Retrieve text data from the results\n",
    "            text = results['documents'][0][i]\n",
    "            if not text:\n",
    "                print(f' - ID: {doc_id}, Text: \"Text not available\", Score: {score:.4f}')\n",
    "            else:\n",
    "                print(f' - ID: {doc_id}, Text: \"{text}\", Score: {score:.4f}')\n",
    "        # pass \n",
    "    except Exception as error:\n",
    "        print(f\"Error in similarity search: {error}\")"
   ]
  },
  {
   "cell_type": "code",
   "execution_count": 7,
   "id": "1b129c31",
   "metadata": {},
   "outputs": [
    {
     "name": "stderr",
     "output_type": "stream",
     "text": [
      "Failed to send telemetry event ClientCreateCollectionEvent: capture() takes 1 positional argument but 3 were given\n",
      "Failed to send telemetry event CollectionAddEvent: capture() takes 1 positional argument but 3 were given\n",
      "Failed to send telemetry event CollectionGetEvent: capture() takes 1 positional argument but 3 were given\n",
      "Failed to send telemetry event CollectionQueryEvent: capture() takes 1 positional argument but 3 were given\n"
     ]
    },
    {
     "name": "stdout",
     "output_type": "stream",
     "text": [
      "Collection created: my_grocery_collection\n",
      "Collection contents:\n",
      "Number of documents: 14\n",
      "Query results for 'apple':\n",
      "{'ids': [['food_13', 'food_1', 'food_14']], 'embeddings': None, 'documents': [['golden apple', 'fresh red apples', 'red fruit']], 'uris': None, 'included': ['metadatas', 'documents', 'distances'], 'data': None, 'metadatas': [[{'source': 'grocery_store', 'category': 'food'}, {'category': 'food', 'source': 'grocery_store'}, {'source': 'grocery_store', 'category': 'food'}]], 'distances': [[0.38246476650238037, 0.4808924198150635, 0.5965152382850647]]}\n",
      "Top 3 similar documents to \"apple\":\n",
      " - ID: food_13, Text: \"golden apple\", Score: 0.3825\n",
      " - ID: food_1, Text: \"fresh red apples\", Score: 0.4809\n",
      " - ID: food_14, Text: \"red fruit\", Score: 0.5965\n"
     ]
    }
   ],
   "source": [
    "# Define the main function to interact with the Chroma DB\n",
    "def main():\n",
    "    try:\n",
    "        # Create a collection in the Chroma database with a specified name, \n",
    "        # distance metric, and embedding function. In this case, we are using \n",
    "        # cosine distance\n",
    "        collection = client.create_collection(\n",
    "            name=collection_name,\n",
    "            metadata={\"description\": \"A collection for storing grocery data\"},\n",
    "            configuration={\n",
    "                \"hnsw\": {\"space\": \"cosine\"},\n",
    "                \"embedding_function\": ef\n",
    "            }\n",
    "        )\n",
    "        print(f\"Collection created: {collection.name}\")\n",
    "\n",
    "        # Array of grocery-related text items\n",
    "        texts = [\n",
    "            'fresh red apples',\n",
    "            'organic bananas',\n",
    "            'ripe mangoes',\n",
    "            'whole wheat bread',\n",
    "            'farm-fresh eggs',\n",
    "            'natural yogurt',\n",
    "            'frozen vegetables',\n",
    "            'grass-fed beef',\n",
    "            'free-range chicken',\n",
    "            'fresh salmon fillet',\n",
    "            'aromatic coffee beans',\n",
    "            'pure honey',\n",
    "            'golden apple',\n",
    "            'red fruit'\n",
    "        ]\n",
    "\n",
    "        # Create a list of unique IDs for each text item in the 'texts' array\n",
    "        # Each ID follows the format 'food_<index>', where <index> starts from 1\n",
    "        ids = [f\"food_{index + 1}\" for index, _ in enumerate(texts)]\n",
    "\n",
    "        # Add documents and their corresponding IDs to the collection\n",
    "        # The `add` method inserts the data into the collection\n",
    "        # The documents are the actual text items, and the IDs are unique identifiers\n",
    "        # ChromaDB will automatically generate embeddings using the configured embedding function\n",
    "        collection.add(\n",
    "            documents=texts,\n",
    "            metadatas=[{\"source\": \"grocery_store\", \"category\": \"food\"} for _ in texts],\n",
    "            ids=ids\n",
    "        )\n",
    "        \n",
    "        # Retrieve all the items (documents) stored in the collection\n",
    "        # The `get` method fetches all data from the collection\n",
    "        all_items = collection.get()\n",
    "        # Log the retrieved items to the console for inspection\n",
    "        # This will print out all the documents, IDs, and metadata stored in the collection\n",
    "        print(\"Collection contents:\")\n",
    "        print(f\"Number of documents: {len(all_items['documents'])}\")\n",
    "        \n",
    "        perform_similarity_search(collection, all_items)\n",
    "        # pass\n",
    "\n",
    "    except Exception as error:  # Catch any errors and log them to the console\n",
    "        print(f\"Error: {error}\")\n",
    "\n",
    "if __name__ == \"__main__\":\n",
    "    main()"
   ]
  },
  {
   "cell_type": "code",
   "execution_count": null,
   "id": "4eeebe26",
   "metadata": {},
   "outputs": [],
   "source": []
  }
 ],
 "metadata": {
  "kernelspec": {
   "display_name": ".venv",
   "language": "python",
   "name": "python3"
  },
  "language_info": {
   "codemirror_mode": {
    "name": "ipython",
    "version": 3
   },
   "file_extension": ".py",
   "mimetype": "text/x-python",
   "name": "python",
   "nbconvert_exporter": "python",
   "pygments_lexer": "ipython3",
   "version": "3.13.0"
  }
 },
 "nbformat": 4,
 "nbformat_minor": 5
}
